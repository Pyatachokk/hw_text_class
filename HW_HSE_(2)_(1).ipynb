{
 "cells": [
  {
   "cell_type": "markdown",
   "metadata": {
    "colab_type": "text",
    "id": "E7ME-ag0hoDA"
   },
   "source": [
    "# Данные"
   ]
  },
  {
   "cell_type": "code",
   "execution_count": 0,
   "metadata": {
    "colab": {
     "base_uri": "https://localhost:8080/",
     "height": 411
    },
    "colab_type": "code",
    "id": "eVLBU4s9fF-q",
    "outputId": "3116fcaf-0d65-4c62-c4fa-b1070be5aa5e"
   },
   "outputs": [
    {
     "name": "stdout",
     "output_type": "stream",
     "text": [
      "--2019-02-09 13:40:16--  https://www.dropbox.com/s/nd7v1fod89xla6j/vk_texts_with_sources.csv\n",
      "Resolving www.dropbox.com (www.dropbox.com)... 162.125.9.1, 2620:100:601f:1::a27d:901\n",
      "Connecting to www.dropbox.com (www.dropbox.com)|162.125.9.1|:443... connected.\n",
      "HTTP request sent, awaiting response... 301 Moved Permanently\n",
      "Location: /s/raw/nd7v1fod89xla6j/vk_texts_with_sources.csv [following]\n",
      "--2019-02-09 13:40:17--  https://www.dropbox.com/s/raw/nd7v1fod89xla6j/vk_texts_with_sources.csv\n",
      "Reusing existing connection to www.dropbox.com:443.\n",
      "HTTP request sent, awaiting response... 302 Found\n",
      "Location: https://uc9b09c59cba1740041dad76770e.dl.dropboxusercontent.com/cd/0/inline/AbDAzP3QQIl7zVZuPqVAu9arwcIfKUOciqr06geBlCcwqNhBO-316ntiiq8rIACf7d7NO3NnHqowNC2Q2LkJ4gjqkNO4sazvQOI0imrMYwnuAQ3TBNDpxUkCg-siT4AnHHE/file# [following]\n",
      "--2019-02-09 13:40:17--  https://uc9b09c59cba1740041dad76770e.dl.dropboxusercontent.com/cd/0/inline/AbDAzP3QQIl7zVZuPqVAu9arwcIfKUOciqr06geBlCcwqNhBO-316ntiiq8rIACf7d7NO3NnHqowNC2Q2LkJ4gjqkNO4sazvQOI0imrMYwnuAQ3TBNDpxUkCg-siT4AnHHE/file\n",
      "Resolving uc9b09c59cba1740041dad76770e.dl.dropboxusercontent.com (uc9b09c59cba1740041dad76770e.dl.dropboxusercontent.com)... 162.125.9.6, 2620:100:601f:6::a27d:906\n",
      "Connecting to uc9b09c59cba1740041dad76770e.dl.dropboxusercontent.com (uc9b09c59cba1740041dad76770e.dl.dropboxusercontent.com)|162.125.9.6|:443... connected.\n",
      "HTTP request sent, awaiting response... 200 OK\n",
      "Length: 14406837 (14M) [text/plain]\n",
      "Saving to: ‘vk_texts_with_sources.csv’\n",
      "\n",
      "vk_texts_with_sourc 100%[===================>]  13.74M  62.6MB/s    in 0.2s    \n",
      "\n",
      "2019-02-09 13:40:18 (62.6 MB/s) - ‘vk_texts_with_sources.csv’ saved [14406837/14406837]\n",
      "\n"
     ]
    }
   ],
   "source": [
    "!wget https://www.dropbox.com/s/nd7v1fod89xla6j/vk_texts_with_sources.csv"
   ]
  },
  {
   "cell_type": "code",
   "execution_count": 1,
   "metadata": {
    "colab": {},
    "colab_type": "code",
    "id": "qxZMU8CBK664"
   },
   "outputs": [],
   "source": [
    "import pandas as pd\n",
    "from collections import Counter\n",
    "df = pd.read_csv('vk_texts_with_sources.csv', usecols = ['text', 'source'])\n",
    "df.head()\n",
    "df.text = df.text.astype(str)\n",
    "df = df[df.text != 'nan']\n",
    "\n",
    "from sklearn.model_selection import train_test_split\n",
    "\n",
    "df_train, df_test = train_test_split(df, test_size = 0.2)"
   ]
  },
  {
   "cell_type": "code",
   "execution_count": 2,
   "metadata": {
    "colab": {},
    "colab_type": "code",
    "id": "ONFmlVSteIVF"
   },
   "outputs": [],
   "source": []
  },
  {
   "cell_type": "code",
   "execution_count": 0,
   "metadata": {
    "colab": {},
    "colab_type": "code",
    "id": "PxKML0rDeIVH",
    "outputId": "c397e815-1bc8-41c0-966b-aa4161784043"
   },
   "outputs": [
    {
     "data": {
      "text/html": [
       "<div>\n",
       "<style scoped>\n",
       "    .dataframe tbody tr th:only-of-type {\n",
       "        vertical-align: middle;\n",
       "    }\n",
       "\n",
       "    .dataframe tbody tr th {\n",
       "        vertical-align: top;\n",
       "    }\n",
       "\n",
       "    .dataframe thead th {\n",
       "        text-align: right;\n",
       "    }\n",
       "</style>\n",
       "<table border=\"1\" class=\"dataframe\">\n",
       "  <thead>\n",
       "    <tr style=\"text-align: right;\">\n",
       "      <th></th>\n",
       "      <th>text</th>\n",
       "      <th>source</th>\n",
       "    </tr>\n",
       "  </thead>\n",
       "  <tbody>\n",
       "    <tr>\n",
       "      <th>10687</th>\n",
       "      <td>Розыск пропавшей без вести Тихоновой Валерии А...</td>\n",
       "      <td>mospolice</td>\n",
       "    </tr>\n",
       "    <tr>\n",
       "      <th>7620</th>\n",
       "      <td>Почта России становится удобнее. Теперь в любо...</td>\n",
       "      <td>russianpost</td>\n",
       "    </tr>\n",
       "    <tr>\n",
       "      <th>5378</th>\n",
       "      <td>#ПамяткаМЧС&lt;br&gt;&lt;br&gt;Опасность нужно знать в лиц...</td>\n",
       "      <td>mchsgov</td>\n",
       "    </tr>\n",
       "    <tr>\n",
       "      <th>9629</th>\n",
       "      <td>Сотрудники полиции разыскивают предполагаемого...</td>\n",
       "      <td>mospolice</td>\n",
       "    </tr>\n",
       "    <tr>\n",
       "      <th>10204</th>\n",
       "      <td>В рамках акции МВД России «8 Марта - в каждый ...</td>\n",
       "      <td>mospolice</td>\n",
       "    </tr>\n",
       "    <tr>\n",
       "      <th>9918</th>\n",
       "      <td>Столичные полицейские присоединятся к акции «Д...</td>\n",
       "      <td>mospolice</td>\n",
       "    </tr>\n",
       "    <tr>\n",
       "      <th>3214</th>\n",
       "      <td>#ГероиМЧС #МЧС #МЧСРОССИИ&lt;br&gt;&lt;br&gt;Житель Симфер...</td>\n",
       "      <td>mchsgov</td>\n",
       "    </tr>\n",
       "    <tr>\n",
       "      <th>9825</th>\n",
       "      <td>Участники музыкального фестиваля МВД России «Щ...</td>\n",
       "      <td>mospolice</td>\n",
       "    </tr>\n",
       "    <tr>\n",
       "      <th>6142</th>\n",
       "      <td>Друзья, не так давно мы рассказывали вам истор...</td>\n",
       "      <td>russianpost</td>\n",
       "    </tr>\n",
       "    <tr>\n",
       "      <th>9035</th>\n",
       "      <td>Желаем вам хороших и законопослушных выходных!...</td>\n",
       "      <td>mospolice</td>\n",
       "    </tr>\n",
       "    <tr>\n",
       "      <th>6961</th>\n",
       "      <td>Каждый день мы работаем над тем, чтобы ваши от...</td>\n",
       "      <td>russianpost</td>\n",
       "    </tr>\n",
       "    <tr>\n",
       "      <th>2876</th>\n",
       "      <td>Условный бой и высадка десанта на остров Котел...</td>\n",
       "      <td>mil</td>\n",
       "    </tr>\n",
       "    <tr>\n",
       "      <th>5216</th>\n",
       "      <td>#БудниМЧС &lt;br&gt;&lt;br&gt;После пожара. &lt;br&gt;ПЧ-1 г. Са...</td>\n",
       "      <td>mchsgov</td>\n",
       "    </tr>\n",
       "    <tr>\n",
       "      <th>9030</th>\n",
       "      <td>В Центре профессиональной подготовки ГУ МВД Ро...</td>\n",
       "      <td>mospolice</td>\n",
       "    </tr>\n",
       "    <tr>\n",
       "      <th>8838</th>\n",
       "      <td>В Центральном округе задержан подозреваемый в ...</td>\n",
       "      <td>mospolice</td>\n",
       "    </tr>\n",
       "    <tr>\n",
       "      <th>3632</th>\n",
       "      <td>#ПамяткаМЧС #МЧС #МЧСРОССИИ &lt;br&gt;&lt;br&gt;Если питом...</td>\n",
       "      <td>mchsgov</td>\n",
       "    </tr>\n",
       "    <tr>\n",
       "      <th>5243</th>\n",
       "      <td>«Каждому пострадавшему от пожара в дагестанско...</td>\n",
       "      <td>mchsgov</td>\n",
       "    </tr>\n",
       "    <tr>\n",
       "      <th>18</th>\n",
       "      <td>На официальном сайте Минобороны России открыва...</td>\n",
       "      <td>mil</td>\n",
       "    </tr>\n",
       "    <tr>\n",
       "      <th>7139</th>\n",
       "      <td>«...Я написал портреты со всех членов семьи то...</td>\n",
       "      <td>russianpost</td>\n",
       "    </tr>\n",
       "    <tr>\n",
       "      <th>1593</th>\n",
       "      <td>Разведчики общевойсковой армии Восточного воен...</td>\n",
       "      <td>mil</td>\n",
       "    </tr>\n",
       "    <tr>\n",
       "      <th>1463</th>\n",
       "      <td>В городе-герое Новороссийске в память 75-й год...</td>\n",
       "      <td>mil</td>\n",
       "    </tr>\n",
       "    <tr>\n",
       "      <th>10970</th>\n",
       "      <td>Приказом руководителя Главного управления созд...</td>\n",
       "      <td>mospolice</td>\n",
       "    </tr>\n",
       "    <tr>\n",
       "      <th>7440</th>\n",
       "      <td>Знаете, какая дата сегодня отмечается в мире? ...</td>\n",
       "      <td>russianpost</td>\n",
       "    </tr>\n",
       "    <tr>\n",
       "      <th>351</th>\n",
       "      <td>Минобороны России рекомендует Алексею Венедикт...</td>\n",
       "      <td>mil</td>\n",
       "    </tr>\n",
       "    <tr>\n",
       "      <th>7081</th>\n",
       "      <td>Главпочтамт в Санкт-Петербурге - настоящий арх...</td>\n",
       "      <td>russianpost</td>\n",
       "    </tr>\n",
       "    <tr>\n",
       "      <th>1217</th>\n",
       "      <td>Очередной выпуск программы «Военная приёмка» н...</td>\n",
       "      <td>mil</td>\n",
       "    </tr>\n",
       "    <tr>\n",
       "      <th>7485</th>\n",
       "      <td>Почему Почта России тесно связана с авиацией? ...</td>\n",
       "      <td>russianpost</td>\n",
       "    </tr>\n",
       "    <tr>\n",
       "      <th>2826</th>\n",
       "      <td>Статс-секретарь - заместитель Министра обороны...</td>\n",
       "      <td>mil</td>\n",
       "    </tr>\n",
       "    <tr>\n",
       "      <th>5566</th>\n",
       "      <td>#СМИобМЧС &lt;br&gt;&lt;br&gt;МЧС привлечёт лабрадоров и л...</td>\n",
       "      <td>mchsgov</td>\n",
       "    </tr>\n",
       "    <tr>\n",
       "      <th>3149</th>\n",
       "      <td>#ПамяткаМЧС #МЧС #МЧСРОССИИ &lt;br&gt;&lt;br&gt;Паводок, п...</td>\n",
       "      <td>mchsgov</td>\n",
       "    </tr>\n",
       "    <tr>\n",
       "      <th>...</th>\n",
       "      <td>...</td>\n",
       "      <td>...</td>\n",
       "    </tr>\n",
       "    <tr>\n",
       "      <th>5664</th>\n",
       "      <td>#ПамяткаМЧС&lt;br&gt;&lt;br&gt;Соблюдайте правила пожарной...</td>\n",
       "      <td>mchsgov</td>\n",
       "    </tr>\n",
       "    <tr>\n",
       "      <th>2083</th>\n",
       "      <td>Более 70 школьников города-героя Новороссийска...</td>\n",
       "      <td>mil</td>\n",
       "    </tr>\n",
       "    <tr>\n",
       "      <th>6692</th>\n",
       "      <td>Дорогие посткроссеры, спешим поделиться хороше...</td>\n",
       "      <td>russianpost</td>\n",
       "    </tr>\n",
       "    <tr>\n",
       "      <th>1528</th>\n",
       "      <td>В соединениях и воинских частях ЗВО проходят п...</td>\n",
       "      <td>mil</td>\n",
       "    </tr>\n",
       "    <tr>\n",
       "      <th>9581</th>\n",
       "      <td>В Центральном округе Москвы сотрудники полиции...</td>\n",
       "      <td>mospolice</td>\n",
       "    </tr>\n",
       "    <tr>\n",
       "      <th>11287</th>\n",
       "      <td>МВД России в канун Дня памяти и скорби дан ста...</td>\n",
       "      <td>mospolice</td>\n",
       "    </tr>\n",
       "    <tr>\n",
       "      <th>3209</th>\n",
       "      <td>#МЧС #МЧСРОССИИ&lt;br&gt;&lt;br&gt;В Хабаровске завершился...</td>\n",
       "      <td>mchsgov</td>\n",
       "    </tr>\n",
       "    <tr>\n",
       "      <th>1189</th>\n",
       "      <td>Главной темой VII Московской конференции по ме...</td>\n",
       "      <td>mil</td>\n",
       "    </tr>\n",
       "    <tr>\n",
       "      <th>4498</th>\n",
       "      <td>#ПамяткаМЧС #МЧС #МЧСРОССИИ</td>\n",
       "      <td>mchsgov</td>\n",
       "    </tr>\n",
       "    <tr>\n",
       "      <th>2170</th>\n",
       "      <td>В мотострелковом соединении ЮВО в Волгоградско...</td>\n",
       "      <td>mil</td>\n",
       "    </tr>\n",
       "    <tr>\n",
       "      <th>7050</th>\n",
       "      <td>Если у вас нет времени на посещение почтового ...</td>\n",
       "      <td>russianpost</td>\n",
       "    </tr>\n",
       "    <tr>\n",
       "      <th>7441</th>\n",
       "      <td>Знаменитости не всегда находят время ответить ...</td>\n",
       "      <td>russianpost</td>\n",
       "    </tr>\n",
       "    <tr>\n",
       "      <th>11160</th>\n",
       "      <td>Ограничения в движении транспорта 23 и 24 июля...</td>\n",
       "      <td>mospolice</td>\n",
       "    </tr>\n",
       "    <tr>\n",
       "      <th>5512</th>\n",
       "      <td>#БудниМЧС &lt;br&gt;&lt;br&gt;Начальник СПТ ЦУКС г. Москвы...</td>\n",
       "      <td>mchsgov</td>\n",
       "    </tr>\n",
       "    <tr>\n",
       "      <th>8578</th>\n",
       "      <td>Почтовые вести!&lt;br&gt;&lt;br&gt;Почта России внедрила н...</td>\n",
       "      <td>russianpost</td>\n",
       "    </tr>\n",
       "    <tr>\n",
       "      <th>3999</th>\n",
       "      <td>#МЧС #МЧСРОССИИ &lt;br&gt;&lt;br&gt;В МЧС России подраздел...</td>\n",
       "      <td>mchsgov</td>\n",
       "    </tr>\n",
       "    <tr>\n",
       "      <th>4326</th>\n",
       "      <td>#МЧС #МЧСРОССИИ&lt;br&gt;&lt;br&gt;Спасатели эвакуировали ...</td>\n",
       "      <td>mchsgov</td>\n",
       "    </tr>\n",
       "    <tr>\n",
       "      <th>1933</th>\n",
       "      <td>Летчики-истребители сил ПВО морской авиации Ти...</td>\n",
       "      <td>mil</td>\n",
       "    </tr>\n",
       "    <tr>\n",
       "      <th>1368</th>\n",
       "      <td>В Дальневосточном высшем общевойсковом командн...</td>\n",
       "      <td>mil</td>\n",
       "    </tr>\n",
       "    <tr>\n",
       "      <th>1011</th>\n",
       "      <td>Расчеты беспилотных летательных аппаратов ЦВО ...</td>\n",
       "      <td>mil</td>\n",
       "    </tr>\n",
       "    <tr>\n",
       "      <th>5593</th>\n",
       "      <td>#БудниМЧС&lt;br&gt;&lt;br&gt;Борьба красноярских пожарных ...</td>\n",
       "      <td>mchsgov</td>\n",
       "    </tr>\n",
       "    <tr>\n",
       "      <th>6715</th>\n",
       "      <td>Дед Мороз - волшебник и сказочный персонаж, но...</td>\n",
       "      <td>russianpost</td>\n",
       "    </tr>\n",
       "    <tr>\n",
       "      <th>6797</th>\n",
       "      <td>Французский романист Ги де Мопассан отличался ...</td>\n",
       "      <td>russianpost</td>\n",
       "    </tr>\n",
       "    <tr>\n",
       "      <th>8926</th>\n",
       "      <td>На Петровке, 38 с 95-летием поздравили ветеран...</td>\n",
       "      <td>mospolice</td>\n",
       "    </tr>\n",
       "    <tr>\n",
       "      <th>3528</th>\n",
       "      <td>#МЧС #МЧСРОССИИ&lt;br&gt;&lt;br&gt;Мобильный диагностическ...</td>\n",
       "      <td>mchsgov</td>\n",
       "    </tr>\n",
       "    <tr>\n",
       "      <th>5856</th>\n",
       "      <td>#ВопросМЧС&lt;br&gt;&lt;br&gt;Знаете ли вы, что нужно дела...</td>\n",
       "      <td>mchsgov</td>\n",
       "    </tr>\n",
       "    <tr>\n",
       "      <th>7470</th>\n",
       "      <td>Этот случай произошел в начале 1960-х годов. П...</td>\n",
       "      <td>russianpost</td>\n",
       "    </tr>\n",
       "    <tr>\n",
       "      <th>6455</th>\n",
       "      <td>Со 2 по 9 мая 2017 года Почта России доставит ...</td>\n",
       "      <td>russianpost</td>\n",
       "    </tr>\n",
       "    <tr>\n",
       "      <th>10177</th>\n",
       "      <td>На севере Москвы полицейские задержали подозре...</td>\n",
       "      <td>mospolice</td>\n",
       "    </tr>\n",
       "    <tr>\n",
       "      <th>4915</th>\n",
       "      <td>#МаленькаяСпасеннаяЖизнь #МЧС #МЧСРОССИИ &lt;br&gt;&lt;...</td>\n",
       "      <td>mchsgov</td>\n",
       "    </tr>\n",
       "  </tbody>\n",
       "</table>\n",
       "<p>9220 rows × 2 columns</p>\n",
       "</div>"
      ],
      "text/plain": [
       "                                                    text       source\n",
       "10687  Розыск пропавшей без вести Тихоновой Валерии А...    mospolice\n",
       "7620   Почта России становится удобнее. Теперь в любо...  russianpost\n",
       "5378   #ПамяткаМЧС<br><br>Опасность нужно знать в лиц...      mchsgov\n",
       "9629   Сотрудники полиции разыскивают предполагаемого...    mospolice\n",
       "10204  В рамках акции МВД России «8 Марта - в каждый ...    mospolice\n",
       "9918   Столичные полицейские присоединятся к акции «Д...    mospolice\n",
       "3214   #ГероиМЧС #МЧС #МЧСРОССИИ<br><br>Житель Симфер...      mchsgov\n",
       "9825   Участники музыкального фестиваля МВД России «Щ...    mospolice\n",
       "6142   Друзья, не так давно мы рассказывали вам истор...  russianpost\n",
       "9035   Желаем вам хороших и законопослушных выходных!...    mospolice\n",
       "6961   Каждый день мы работаем над тем, чтобы ваши от...  russianpost\n",
       "2876   Условный бой и высадка десанта на остров Котел...          mil\n",
       "5216   #БудниМЧС <br><br>После пожара. <br>ПЧ-1 г. Са...      mchsgov\n",
       "9030   В Центре профессиональной подготовки ГУ МВД Ро...    mospolice\n",
       "8838   В Центральном округе задержан подозреваемый в ...    mospolice\n",
       "3632   #ПамяткаМЧС #МЧС #МЧСРОССИИ <br><br>Если питом...      mchsgov\n",
       "5243   «Каждому пострадавшему от пожара в дагестанско...      mchsgov\n",
       "18     На официальном сайте Минобороны России открыва...          mil\n",
       "7139   «...Я написал портреты со всех членов семьи то...  russianpost\n",
       "1593   Разведчики общевойсковой армии Восточного воен...          mil\n",
       "1463   В городе-герое Новороссийске в память 75-й год...          mil\n",
       "10970  Приказом руководителя Главного управления созд...    mospolice\n",
       "7440   Знаете, какая дата сегодня отмечается в мире? ...  russianpost\n",
       "351    Минобороны России рекомендует Алексею Венедикт...          mil\n",
       "7081   Главпочтамт в Санкт-Петербурге - настоящий арх...  russianpost\n",
       "1217   Очередной выпуск программы «Военная приёмка» н...          mil\n",
       "7485   Почему Почта России тесно связана с авиацией? ...  russianpost\n",
       "2826   Статс-секретарь - заместитель Министра обороны...          mil\n",
       "5566   #СМИобМЧС <br><br>МЧС привлечёт лабрадоров и л...      mchsgov\n",
       "3149   #ПамяткаМЧС #МЧС #МЧСРОССИИ <br><br>Паводок, п...      mchsgov\n",
       "...                                                  ...          ...\n",
       "5664   #ПамяткаМЧС<br><br>Соблюдайте правила пожарной...      mchsgov\n",
       "2083   Более 70 школьников города-героя Новороссийска...          mil\n",
       "6692   Дорогие посткроссеры, спешим поделиться хороше...  russianpost\n",
       "1528   В соединениях и воинских частях ЗВО проходят п...          mil\n",
       "9581   В Центральном округе Москвы сотрудники полиции...    mospolice\n",
       "11287  МВД России в канун Дня памяти и скорби дан ста...    mospolice\n",
       "3209   #МЧС #МЧСРОССИИ<br><br>В Хабаровске завершился...      mchsgov\n",
       "1189   Главной темой VII Московской конференции по ме...          mil\n",
       "4498                         #ПамяткаМЧС #МЧС #МЧСРОССИИ      mchsgov\n",
       "2170   В мотострелковом соединении ЮВО в Волгоградско...          mil\n",
       "7050   Если у вас нет времени на посещение почтового ...  russianpost\n",
       "7441   Знаменитости не всегда находят время ответить ...  russianpost\n",
       "11160  Ограничения в движении транспорта 23 и 24 июля...    mospolice\n",
       "5512   #БудниМЧС <br><br>Начальник СПТ ЦУКС г. Москвы...      mchsgov\n",
       "8578   Почтовые вести!<br><br>Почта России внедрила н...  russianpost\n",
       "3999   #МЧС #МЧСРОССИИ <br><br>В МЧС России подраздел...      mchsgov\n",
       "4326   #МЧС #МЧСРОССИИ<br><br>Спасатели эвакуировали ...      mchsgov\n",
       "1933   Летчики-истребители сил ПВО морской авиации Ти...          mil\n",
       "1368   В Дальневосточном высшем общевойсковом командн...          mil\n",
       "1011   Расчеты беспилотных летательных аппаратов ЦВО ...          mil\n",
       "5593   #БудниМЧС<br><br>Борьба красноярских пожарных ...      mchsgov\n",
       "6715   Дед Мороз - волшебник и сказочный персонаж, но...  russianpost\n",
       "6797   Французский романист Ги де Мопассан отличался ...  russianpost\n",
       "8926   На Петровке, 38 с 95-летием поздравили ветеран...    mospolice\n",
       "3528   #МЧС #МЧСРОССИИ<br><br>Мобильный диагностическ...      mchsgov\n",
       "5856   #ВопросМЧС<br><br>Знаете ли вы, что нужно дела...      mchsgov\n",
       "7470   Этот случай произошел в начале 1960-х годов. П...  russianpost\n",
       "6455   Со 2 по 9 мая 2017 года Почта России доставит ...  russianpost\n",
       "10177  На севере Москвы полицейские задержали подозре...    mospolice\n",
       "4915   #МаленькаяСпасеннаяЖизнь #МЧС #МЧСРОССИИ <br><...      mchsgov\n",
       "\n",
       "[9220 rows x 2 columns]"
      ]
     },
     "execution_count": 4,
     "metadata": {
      "tags": []
     },
     "output_type": "execute_result"
    }
   ],
   "source": [
    "df_train"
   ]
  },
  {
   "cell_type": "markdown",
   "metadata": {
    "colab_type": "text",
    "id": "dYNCAr17MFA3"
   },
   "source": [
    "# Домашнее задание\n",
    "\n",
    "В этом домашнем задании вы будете решать задачу тематической классификации. Даны тексты, опубликованные в нескольких пабликах VK.com, посвященных государственным и муниципальным службам. Формально задача заключается в том, чтобы по тексту ($d$) определить в каком паблике он опубликован, то есть, к какому классу $c$ он принадлежит. "
   ]
  },
  {
   "cell_type": "markdown",
   "metadata": {
    "colab_type": "text",
    "id": "e2EnN-U7MemU"
   },
   "source": [
    "## Задание 1 [1 балл]. Описательные статистики\n",
    "Посчитайте:\n",
    "* количество текстов и количество классов\n",
    "* количество слов (без лемматизации и с лемматизацией) в коллекции\n",
    "* среднюю длину текста в словах и символах\n",
    "* найдите 5 самых частых существительных в текстах каждого паблика \n",
    "\n",
    "*Рекомендуем использовать pandas для расчета описательных статистик.*"
   ]
  },
  {
   "cell_type": "code",
   "execution_count": 0,
   "metadata": {
    "colab": {},
    "colab_type": "code",
    "id": "CtnuV6pueIVP",
    "outputId": "ee4462a0-e489-42f8-e4ba-22fb83b48672"
   },
   "outputs": [
    {
     "name": "stdout",
     "output_type": "stream",
     "text": [
      "11526\n",
      "4\n",
      "Неважно, живет ваш друг в Лейпциге или в Липецке, вы сможете отправить ему посылку в любом нашем отделении. Разница лишь в том, что для международных отправлений вам понадобится заполнить таможенную декларацию. Это, кстати, можно сделать заранее на нашем сайте. <br><br>Для мелких пакетов и бандеролей ценностью менее 300 СПЗ (около 25 тыс. руб) нужно заполнить декларацию СN 22: https://www.pochta.ru/form?type=CN22 <br><br>Для посылок и отправлений ценностью более 300 СПЗ заполняют декларацию СN 23 в трех экземплярах: https://www.pochta.ru/form?type=CN23 <br><br>#ПочтаРоссии #услугипочты\n"
     ]
    }
   ],
   "source": [
    "# Количество текстов и слов\n",
    "import re\n",
    "from pymorphy2 import MorphAnalyzer\n",
    "print(len(df))\n",
    "print(len(df.groupby('source').count()))\n",
    "print(df[df.source == 'mchsgov'].iloc[-10].text)"
   ]
  },
  {
   "cell_type": "code",
   "execution_count": 0,
   "metadata": {
    "colab": {},
    "colab_type": "code",
    "id": "cnPGi0RTeIVS",
    "outputId": "f6d6cb7e-f916-43e5-a362-baa62e120943"
   },
   "outputs": [
    {
     "name": "stdout",
     "output_type": "stream",
     "text": [
      "89648\n"
     ]
    }
   ],
   "source": [
    "# Количество уникальных слов\n",
    "\n",
    "\n",
    "spl = lambda string: re.split('[\\W\\s]', string)\n",
    "\n",
    "uniq = set()\n",
    "\n",
    "for string in df.text:\n",
    "    uniq.update(spl(string))\n",
    "    \n",
    "print(len(uniq))"
   ]
  },
  {
   "cell_type": "code",
   "execution_count": 0,
   "metadata": {
    "colab": {},
    "colab_type": "code",
    "id": "mvWTRXMYeIVV",
    "outputId": "b2f34f44-4223-4196-d16f-f1a9c6e5858f"
   },
   "outputs": [
    {
     "name": "stdout",
     "output_type": "stream",
     "text": [
      "36061\n"
     ]
    }
   ],
   "source": [
    "# Количество уникальных слов с лематизацией\n",
    "\n",
    "\n",
    "pymorphy2_analyzer = MorphAnalyzer()\n",
    "\n",
    "uniq_lemat = []\n",
    "\n",
    "for word in list(uniq):\n",
    "    uniq_lemat.append(str(pymorphy2_analyzer.parse(word)[0].normal_form))\n",
    "    \n",
    "print(len(set(uniq_lemat)))"
   ]
  },
  {
   "cell_type": "code",
   "execution_count": 0,
   "metadata": {
    "colab": {},
    "colab_type": "code",
    "id": "IWl63i93eIVX",
    "outputId": "7827d983-5281-4577-b6be-170919bcffab"
   },
   "outputs": [
    {
     "name": "stdout",
     "output_type": "stream",
     "text": [
      "118.1632688172043\n",
      "684.9059784946237\n"
     ]
    }
   ],
   "source": [
    "#Среднее количество слов в тексте\n",
    "print((df.text.apply(lambda string: len(re.split('[\\W\\s]', string)))).mean())\n",
    "\n",
    "# Среднее количество символов в тексте\n",
    "print((df.text.apply(lambda string: len(list(string)))).mean())"
   ]
  },
  {
   "cell_type": "markdown",
   "metadata": {
    "colab_type": "text",
    "id": "fTJPlulvQSqQ"
   },
   "source": [
    "Разделите коллекцию текстов на обучающую и тестовую части. "
   ]
  },
  {
   "cell_type": "markdown",
   "metadata": {
    "colab_type": "text",
    "id": "9yCVYfbpNhXd"
   },
   "source": [
    " ## Задание 2 [2 балла]. Классификация по правилам\n",
    " \n",
    " * Разработайте несколько правил вида \"Если встречается слово $w$, то текст относится к паблику $c$\"\n",
    " * Посчитайте, какую точность, полноту, $f$-меру и $accuracy$ вы получаете при классификации по правилам\n",
    " * Получилось ли у вас придумать правило, которое никогда не ошибается?"
   ]
  },
  {
   "cell_type": "code",
   "execution_count": 0,
   "metadata": {
    "colab": {},
    "colab_type": "code",
    "id": "O5XQr9TzeIVd",
    "outputId": "8284d277-5139-4ffc-f241-793b9a7590a7"
   },
   "outputs": [
    {
     "name": "stdout",
     "output_type": "stream",
     "text": [
      "['и', 'в', 'во', 'не', 'что', 'он', 'на', 'я', 'с', 'со', 'как', 'а', 'то', 'все', 'она', 'так', 'его', 'но', 'да', 'ты', 'к', 'у', 'же', 'вы', 'за', 'бы', 'по', 'только', 'ее', 'мне', 'было', 'вот', 'от', 'меня', 'еще', 'нет', 'о', 'из', 'ему', 'теперь', 'когда', 'даже', 'ну', 'вдруг', 'ли', 'если', 'уже', 'или', 'ни', 'быть', 'был', 'него', 'до', 'вас', 'нибудь', 'опять', 'уж', 'вам', 'ведь', 'там', 'потом', 'себя', 'ничего', 'ей', 'может', 'они', 'тут', 'где', 'есть', 'надо', 'ней', 'для', 'мы', 'тебя', 'их', 'чем', 'была', 'сам', 'чтоб', 'без', 'будто', 'чего', 'раз', 'тоже', 'себе', 'под', 'будет', 'ж', 'тогда', 'кто', 'этот', 'того', 'потому', 'этого', 'какой', 'совсем', 'ним', 'здесь', 'этом', 'один', 'почти', 'мой', 'тем', 'чтобы', 'нее', 'сейчас', 'были', 'куда', 'зачем', 'всех', 'никогда', 'можно', 'при', 'наконец', 'два', 'об', 'другой', 'хоть', 'после', 'над', 'больше', 'тот', 'через', 'эти', 'нас', 'про', 'всего', 'них', 'какая', 'много', 'разве', 'три', 'эту', 'моя', 'впрочем', 'хорошо', 'свою', 'этой', 'перед', 'иногда', 'лучше', 'чуть', 'том', 'нельзя', 'такой', 'им', 'более', 'всегда', 'конечно', 'всю', 'между']\n"
     ]
    },
    {
     "name": "stderr",
     "output_type": "stream",
     "text": [
      "[nltk_data] Downloading package stopwords to\n",
      "[nltk_data]     C:\\Users\\The_sun\\AppData\\Roaming\\nltk_data...\n",
      "[nltk_data]   Package stopwords is already up-to-date!\n"
     ]
    }
   ],
   "source": [
    "import nltk\n",
    "import itertools\n",
    "nltk.download('stopwords')\n",
    "from nltk.corpus import stopwords\n",
    "print(stopwords.words('russian'))\n",
    "\n",
    "stop_words = stopwords.words('russian')"
   ]
  },
  {
   "cell_type": "code",
   "execution_count": 0,
   "metadata": {
    "colab": {},
    "colab_type": "code",
    "id": "j2I3KPrOeIVg",
    "outputId": "6dc137ba-0ac3-4d30-9d09-14df47f7b2f8"
   },
   "outputs": [
    {
     "name": "stdout",
     "output_type": "stream",
     "text": [
      "['mchsgov', 'mil', 'mospolice', 'russianpost']\n"
     ]
    }
   ],
   "source": [
    "labels =list(df.groupby('source').count().index)\n",
    "pymorphy2_analyzer = MorphAnalyzer()\n",
    "print(labels)\n",
    "\n",
    "def return_dict(df):\n",
    "\n",
    "    results = {}\n",
    "    for label in labels:\n",
    "        data =  df[df.source == label]\n",
    "        spl = lambda string: re.split('[\\W\\s]', string)\n",
    "\n",
    "        words = []\n",
    "        for string in data.text:\n",
    "            words += spl(string)\n",
    "\n",
    "\n",
    "        uniq_lemat = []\n",
    "\n",
    "        print(words[1: 10])\n",
    "\n",
    "        for word in words:\n",
    "            uniq_lemat.append(str(pymorphy2_analyzer.parse(word)[0].normal_form))\n",
    "\n",
    "        count = dict(Counter(uniq_lemat))\n",
    "\n",
    "        for word in stop_words:\n",
    "            if word in count:\n",
    "                del count[word]\n",
    "\n",
    "        if label == 'mchsgov':\n",
    "            for word in ['', 'br', 'россия', 'год', 'это', 'который', 'российский', 'весь', 'свой', 'наш', 'день', 'ru']:\n",
    "                if word in count:\n",
    "                    del count[word]\n",
    "        if label == 'mil':\n",
    "             for word in['', 'br', 'россия', 'год', 'это', 'который', 'российский', 'весь', 'свой', 'наш', 'день', 'ru']:\n",
    "                if word in count:\n",
    "                    del count[word]\n",
    "        if label == 'mospolice':\n",
    "             for word in ['', 'br', 'россия', 'год', 'это', 'который', 'российский', 'весь', 'свой', 'наш', 'день', 'ru']:\n",
    "                if word in count:\n",
    "                    del count[word]\n",
    "        if label == 'russianpost':\n",
    "             for word in ['', 'br', 'россия', 'год', 'это', 'который', 'российский', 'весь', 'свой', 'наш', 'день', 'ru']:\n",
    "                if word in count:\n",
    "                    del count[word]\n",
    "        sorted_dict = dict(sorted(count.items(), key=lambda kv: kv[1], reverse = True))\n",
    "        slice_ = dict(itertools.islice(sorted_dict.items(), 20))\n",
    "        print(slice_)\n",
    "\n",
    "        results[label] = list(slice_.keys())\n",
    "    return results\n"
   ]
  },
  {
   "cell_type": "code",
   "execution_count": 0,
   "metadata": {
    "colab": {},
    "colab_type": "code",
    "id": "IGFoD5ALeIVj",
    "outputId": "786ec5c6-6f91-4351-dc0b-d526449df2d1"
   },
   "outputs": [
    {
     "name": "stdout",
     "output_type": "stream",
     "text": [
      "['ПамяткаМЧС', 'br', '', 'br', 'Весенний', 'пал', 'травы', '', 'Мифы']\n",
      "{'мчс': 2906, 'мчсроссия': 1531, 'http': 1149, 'www': 1097, 'mchs': 1067, 'gov': 1056, 'item': 1037, 'news': 1031, 'dop': 1020, 'info': 1011, 'smi': 1011, 'пожарный': 704, 'спасатель': 595, 'спасательный': 472, 'человек': 390, 'пожар': 358, 'помощь': 357, 'безопасность': 347, 'работа': 346, 'владимир': 271}\n",
      "['апреля', '', '', 'День', 'победы', 'русских', 'воинов', 'князя', 'Александра']\n",
      "{'военный': 2099, 'минобороны': 1450, 'также': 852, 'оборона': 760, 'учение': 703, 'сила': 678, 'флот': 624, 'корабль': 620, 'ход': 595, 'комплекс': 580, 'время': 579, 'боев': 560, 'ракетный': 550, 'войско': 549, 'экипаж': 545, 'морской': 544, 'условный': 478, 'цель': 471, 'противник': 467, 'министр': 464}\n",
      "['Москвы', 'призывает', 'водителей', 'быть', 'внимательными', 'в', 'связи', 'с', 'изменениями']\n",
      "{'полиция': 4712, 'мвд': 4203, 'москва': 3377, 'сотрудник': 2532, 'петровка38': 2020, 'гу': 1781, 'задержать': 1406, 'увд': 1366, 'служба': 1322, 'дело': 1264, 'новость': 1214, 'полицейский': 1197, 'начальник': 1179, 'мвдроссия': 1125, 'управление': 1083, 'внутренний': 1044, 'подозревать': 1024, 'мероприятие': 968, 'уголовный': 871, 'рф': 832}\n",
      "['оператор', 'Дании', '', 'Post', 'Danmark', '', 'основан', 'в', '1624']\n",
      "{'почтовый': 2961, 'почта': 2644, 'отделение': 1291, 'письмо': 1186, 'открытка': 1164, 'марка': 1122, 'почтароссия': 767, 'отправление': 715, 'посылка': 620, 'мочь': 597, 'также': 585, 'страна': 564, 'время': 534, 'связь': 533, 'доставка': 523, 'друг': 523, 'почтальон': 518, 'город': 490, 'работа': 488, 'самый': 475}\n"
     ]
    }
   ],
   "source": [
    "result = return_dict(df_train)\n",
    "from random import randint\n",
    "def classifier(string):\n",
    "    \n",
    "    spl = lambda string: re.split('[\\W\\s]', string)\n",
    "    words = spl(string)\n",
    "    \n",
    "    lemat = []\n",
    "    for word in words:\n",
    "        lemat.append(str(pymorphy2_analyzer.parse(word)[0].normal_form))\n",
    "    label = None\n",
    "    max_ = 0\n",
    "    for key in results.keys():\n",
    "        inter = len(set.intersection(set(results[key]), set(lemat)))\n",
    "        if inter > max_:\n",
    "            max_ = inter\n",
    "            label = key\n",
    "    if label == None:\n",
    "        label = list(results.keys())[randint(0, 3)]\n",
    "    return label\n"
   ]
  },
  {
   "cell_type": "code",
   "execution_count": 0,
   "metadata": {
    "colab": {},
    "colab_type": "code",
    "id": "r87c_Kl_eIVm",
    "outputId": "69c57232-e21c-49cf-8469-a0ee325d5a2c"
   },
   "outputs": [
    {
     "name": "stderr",
     "output_type": "stream",
     "text": [
      "C:\\Users\\The_sun\\Anaconda3\\lib\\site-packages\\ipykernel_launcher.py:1: SettingWithCopyWarning: \n",
      "A value is trying to be set on a copy of a slice from a DataFrame.\n",
      "Try using .loc[row_indexer,col_indexer] = value instead\n",
      "\n",
      "See the caveats in the documentation: http://pandas.pydata.org/pandas-docs/stable/indexing.html#indexing-view-versus-copy\n",
      "  \"\"\"Entry point for launching an IPython kernel.\n"
     ]
    }
   ],
   "source": [
    "df_test['new_class'] = df_test.text.apply(classifier)"
   ]
  },
  {
   "cell_type": "code",
   "execution_count": 0,
   "metadata": {
    "colab": {},
    "colab_type": "code",
    "id": "0MrGbjoFeIVq"
   },
   "outputs": [],
   "source": [
    "new_labels = {'mchsgov' : 0, 'mil': 1, 'mospolice' : 2, 'russianpost': 3}\n",
    "test_labs = df_test.source.apply(lambda string: new_labels[string])\n",
    "test_preds = df_test.new_class.apply(lambda string: new_labels[string])"
   ]
  },
  {
   "cell_type": "code",
   "execution_count": 0,
   "metadata": {
    "colab": {},
    "colab_type": "code",
    "id": "KVRl001meIVu",
    "outputId": "3b1ae1b1-7425-44db-89a3-b567faf660bd"
   },
   "outputs": [
    {
     "name": "stdout",
     "output_type": "stream",
     "text": [
      "Precision:  0.922405112390505\n",
      "Recall:  0.9212560102834702\n",
      "F-score:  0.9206780970145866\n",
      "Accuracy:  0.9215091066782307\n"
     ]
    }
   ],
   "source": [
    "from sklearn.metrics import confusion_matrix\n",
    "from sklearn.metrics import precision_score, recall_score, roc_auc_score, f1_score\n",
    "import numpy as np\n",
    "\n",
    "print('Precision: ', precision_score(test_labs, test_preds, average = 'macro'))\n",
    "print('Recall: ', recall_score(test_labs, test_preds, average = 'macro'))\n",
    "print('F-score: ', f1_score(test_labs, test_preds, average = 'macro'))\n",
    "print('Accuracy: ', sum(df_test.source == df_test.new_class) / len(df_test))"
   ]
  },
  {
   "cell_type": "code",
   "execution_count": 65,
   "metadata": {},
   "outputs": [],
   "source": []
  },
  {
   "cell_type": "code",
   "execution_count": null,
   "metadata": {},
   "outputs": [],
   "source": []
  },
  {
   "cell_type": "markdown",
   "metadata": {
    "colab_type": "text",
    "id": "22tJKQnaOjie"
   },
   "source": [
    "## Задание 3 [3 балла]. Baseline\n",
    "Используйте стандартный ```sklearn.pipeline``` для классификации текстов: \n",
    "* векторизация \n",
    "* $tf-idf$ взвешивание \n",
    "* ваш любимый метод классификации.\n",
    "\n",
    "\n",
    "Оцените результаты классификации по стандартным мерам качества и проведите анализ ошибок. Для этого рекомендуем визуализировать матрицу ошибок (confusion matrix). "
   ]
  },
  {
   "cell_type": "code",
   "execution_count": 1,
   "metadata": {
    "colab": {},
    "colab_type": "code",
    "id": "WqE81LrJeIVz"
   },
   "outputs": [],
   "source": [
    "import numpy as np\n",
    "from sklearn.feature_extraction.text import TfidfVectorizer\n",
    "from scipy.sparse import csr_matrix\n",
    "\n",
    "import pandas as pd\n",
    "from collections import Counter\n",
    "df = pd.read_csv('vk_texts_with_sources.csv', usecols = ['text', 'source'])\n",
    "df.head()\n",
    "df.text = df.text.astype(str)\n",
    "df = df[df.text != 'nan']\n",
    "\n",
    "from sklearn.model_selection import train_test_split\n",
    "\n",
    "df_train, df_test = train_test_split(df, test_size = 0.2)\n",
    "\n",
    "import re\n",
    "from pymorphy2 import MorphAnalyzer\n",
    "\n",
    "def train_test_vectorizer(data):\n",
    "\n",
    "    \n",
    "    print(data.shape)\n",
    "    data = data.iloc[np.random.choice(len(data), len(data), replace = False)]\n",
    "    data_train, data_test = train_test_split(data, test_size = 0.2, shuffle = False)\n",
    "    \n",
    "    labels_train = data_train.source\n",
    "    data_train = data_train.text\n",
    "    \n",
    "    labels_test = data_test.source\n",
    "    data_test = data_test.text\n",
    "    \n",
    "    data_full = data.text\n",
    "    \n",
    "    print(len(data_train), len(data_test))\n",
    "    vectorizer = TfidfVectorizer()\n",
    "\n",
    "    tf_idf_train = vectorizer.fit_transform(data_train)\n",
    "    names_1 = vectorizer.get_feature_names()\n",
    "\n",
    "    tf_idf_test = vectorizer.fit_transform(data_full)[len(data_train):]\n",
    "    names_2 = vectorizer.get_feature_names()\n",
    "    tf_idf_test = csr_matrix(pd.DataFrame(tf_idf_test.toarray(), columns = names_2)[names_1])\n",
    "    \n",
    "    print(tf_idf_train.shape, tf_idf_test.shape)\n",
    "    \n",
    "    return tf_idf_train, labels_train, tf_idf_test, labels_test"
   ]
  },
  {
   "cell_type": "code",
   "execution_count": 2,
   "metadata": {},
   "outputs": [
    {
     "name": "stdout",
     "output_type": "stream",
     "text": [
      "(11526, 2)\n",
      "9220 2306\n",
      "(9220, 72028) (2306, 72028)\n"
     ]
    }
   ],
   "source": [
    "tf_idf_train, labels_train, tf_idf_test, labels_test = train_test_vectorizer(df)"
   ]
  },
  {
   "cell_type": "code",
   "execution_count": 42,
   "metadata": {},
   "outputs": [
    {
     "data": {
      "text/plain": [
       "GaussianNB(priors=None, var_smoothing=1e-09)"
      ]
     },
     "execution_count": 42,
     "metadata": {},
     "output_type": "execute_result"
    }
   ],
   "source": [
    "from sklearn.naive_bayes import GaussianNB\n",
    "\n",
    "clf = GaussianNB()\n",
    "\n",
    "clf.fit(pd.DataFrame(tf_idf_train.toarray()), labels_train)"
   ]
  },
  {
   "cell_type": "code",
   "execution_count": 48,
   "metadata": {},
   "outputs": [],
   "source": [
    "predictions = pd.DataFrame(clf.predict(pd.DataFrame(tf_idf_test.toarray())))"
   ]
  },
  {
   "cell_type": "code",
   "execution_count": 55,
   "metadata": {},
   "outputs": [],
   "source": [
    "new_labels = {'mchsgov' : 0, 'mil': 1, 'mospolice' : 2, 'russianpost': 3}\n",
    "labels = pd.DataFrame(labels_test).source.apply(lambda string: new_labels[string])\n",
    "predictions = predictions[0].apply(lambda string: new_labels[string])"
   ]
  },
  {
   "cell_type": "code",
   "execution_count": 64,
   "metadata": {},
   "outputs": [
    {
     "name": "stdout",
     "output_type": "stream",
     "text": [
      "Precision:  0.9080484545742551\n",
      "Recall:  0.9031015868016053\n",
      "F-score:  0.901562109797185\n",
      "Accuracy:  0.9037294015611448\n"
     ]
    },
    {
     "data": {
      "text/plain": [
       "array([[436,  67,  22,  47],\n",
       "       [ 10, 588,   5,   8],\n",
       "       [  0,   6, 554,  27],\n",
       "       [  4,   3,  23, 506]], dtype=int64)"
      ]
     },
     "execution_count": 64,
     "metadata": {},
     "output_type": "execute_result"
    }
   ],
   "source": [
    "from sklearn.metrics import confusion_matrix\n",
    "from sklearn.metrics import precision_score, recall_score, roc_auc_score, f1_score\n",
    "import numpy as np\n",
    "\n",
    "print('Precision: ', precision_score(labels, predictions, average = 'macro'))\n",
    "print('Recall: ', recall_score(labels, predictions, average = 'macro'))\n",
    "print('F-score: ', f1_score(labels, predictions, average = 'macro'))\n",
    "print('Accuracy: ', sum(labels.values == predictions.values) / len(labels))\n",
    "confusion_matrix(labels, predictions)"
   ]
  },
  {
   "cell_type": "code",
   "execution_count": 66,
   "metadata": {},
   "outputs": [
    {
     "name": "stderr",
     "output_type": "stream",
     "text": [
      "C:\\Users\\The_sun\\Anaconda3\\lib\\site-packages\\sklearn\\ensemble\\forest.py:246: FutureWarning: The default value of n_estimators will change from 10 in version 0.20 to 100 in 0.22.\n",
      "  \"10 in version 0.20 to 100 in 0.22.\", FutureWarning)\n"
     ]
    },
    {
     "data": {
      "text/plain": [
       "RandomForestClassifier(bootstrap=True, class_weight=None, criterion='gini',\n",
       "            max_depth=None, max_features='auto', max_leaf_nodes=None,\n",
       "            min_impurity_decrease=0.0, min_impurity_split=None,\n",
       "            min_samples_leaf=1, min_samples_split=2,\n",
       "            min_weight_fraction_leaf=0.0, n_estimators=10, n_jobs=None,\n",
       "            oob_score=False, random_state=None, verbose=0,\n",
       "            warm_start=False)"
      ]
     },
     "execution_count": 66,
     "metadata": {},
     "output_type": "execute_result"
    }
   ],
   "source": [
    "from sklearn.ensemble import RandomForestClassifier\n",
    "\n",
    "cl = RandomForestClassifier()\n",
    "\n",
    "cl.fit(tf_idf_train.toarray(), labels_train)"
   ]
  },
  {
   "cell_type": "code",
   "execution_count": 70,
   "metadata": {},
   "outputs": [],
   "source": [
    "predictions = pd.DataFrame(cl.predict(tf_idf_test.toarray()))"
   ]
  },
  {
   "cell_type": "code",
   "execution_count": 71,
   "metadata": {},
   "outputs": [],
   "source": [
    "new_labels = {'mchsgov' : 0, 'mil': 1, 'mospolice' : 2, 'russianpost': 3}\n",
    "labels = pd.DataFrame(labels_test).source.apply(lambda string: new_labels[string])\n",
    "predictions = predictions[0].apply(lambda string: new_labels[string])"
   ]
  },
  {
   "cell_type": "code",
   "execution_count": 72,
   "metadata": {},
   "outputs": [
    {
     "name": "stdout",
     "output_type": "stream",
     "text": [
      "Precision:  0.9510830424975372\n",
      "Recall:  0.9510160043322934\n",
      "F-score:  0.9509175519825506\n",
      "Accuracy:  0.9514310494362532\n"
     ]
    },
    {
     "data": {
      "text/plain": [
       "array([[544,   7,   0,  21],\n",
       "       [ 24, 577,   1,   9],\n",
       "       [  6,   4, 575,   2],\n",
       "       [ 16,   4,  18, 498]], dtype=int64)"
      ]
     },
     "execution_count": 72,
     "metadata": {},
     "output_type": "execute_result"
    }
   ],
   "source": [
    "print('Precision: ', precision_score(labels, predictions, average = 'macro'))\n",
    "print('Recall: ', recall_score(labels, predictions, average = 'macro'))\n",
    "print('F-score: ', f1_score(labels, predictions, average = 'macro'))\n",
    "print('Accuracy: ', sum(labels.values == predictions.values) / len(labels))\n",
    "confusion_matrix(labels, predictions)"
   ]
  },
  {
   "cell_type": "markdown",
   "metadata": {
    "colab_type": "text",
    "id": "I4m1rDQ3PAqO"
   },
   "source": [
    "## Задание 4 [2 балла]. Снижение размерности\n",
    "Добавьте в ваш ```sklearn.pipeline```  методы снижения размерности:  PCA / LSI / LSA / LDA / другое. Какие методы классификации разумно использовать после снижения размерности? Как изменились результаты классификации после добавления нового шага?"
   ]
  },
  {
   "cell_type": "code",
   "execution_count": 3,
   "metadata": {},
   "outputs": [],
   "source": [
    "import umap\n",
    "\n",
    "um = umap.UMAP().fit(tf_idf_train.toarray())\n",
    "\n",
    "embedding_train = um.transform(tf_idf_train.toarray())\n",
    "embedding_test = um.transform(tf_idf_test.toarray())"
   ]
  },
  {
   "cell_type": "code",
   "execution_count": 7,
   "metadata": {},
   "outputs": [],
   "source": [
    "new_labels = {'mchsgov' : 0, 'mil': 1, 'mospolice' : 2, 'russianpost': 3}\n",
    "labels_train_umap = pd.DataFrame(labels_train).source.apply(lambda string: new_labels[string])"
   ]
  },
  {
   "cell_type": "code",
   "execution_count": 16,
   "metadata": {},
   "outputs": [
    {
     "data": {
      "image/png": "[encoded data removed]",
      "text/plain": [
       "<Figure size 1440x720 with 1 Axes>"
      ]
     },
     "metadata": {
      "needs_background": "light"
     },
     "output_type": "display_data"
    }
   ],
   "source": [
    "\n",
    "import matplotlib.pyplot as plt\n",
    "plt.figure(figsize=[20, 10])\n",
    "plt.scatter(embedding_train[:, 0], embedding_train[:, 1], s= 10, c=labels_train_umap, cmap='Spectral')\n",
    "plt.title('Embedding of the training set by UMAP', fontsize=30);\n"
   ]
  },
  {
   "cell_type": "code",
   "execution_count": 18,
   "metadata": {
    "scrolled": false
   },
   "outputs": [
    {
     "data": {
      "image/png": "[encoded data removed]",
      "text/plain": [
       "<Figure size 1440x720 with 1 Axes>"
      ]
     },
     "metadata": {
      "needs_background": "light"
     },
     "output_type": "display_data"
    }
   ],
   "source": [
    "new_labels = {'mchsgov' : 0, 'mil': 1, 'mospolice' : 2, 'russianpost': 3}\n",
    "labels_test_umap = pd.DataFrame(labels_test).source.apply(lambda string: new_labels[string])\n",
    "\n",
    "plt.figure(figsize=[20, 10])\n",
    "plt.scatter(embedding_test[:, 0], embedding_test[:, 1], s= 10, c=labels_test_umap, cmap='Spectral')\n",
    "plt.title('Embedding of the testing set by UMAP', fontsize=30);\n"
   ]
  },
  {
   "cell_type": "code",
   "execution_count": 23,
   "metadata": {},
   "outputs": [
    {
     "name": "stdout",
     "output_type": "stream",
     "text": [
      "Precision:  0.937340439968831\n",
      "Recall:  0.9381591965131557\n",
      "F-score:  0.9372696842003065\n",
      "Accuracy:  0.937987857762359\n"
     ]
    },
    {
     "data": {
      "text/plain": [
       "array([[560,   0,   6,  33],\n",
       "       [ 17, 580,   9,  12],\n",
       "       [ 20,   0, 542,  17],\n",
       "       [ 10,   0,  19, 481]], dtype=int64)"
      ]
     },
     "execution_count": 23,
     "metadata": {},
     "output_type": "execute_result"
    }
   ],
   "source": [
    "from sklearn.ensemble import RandomForestClassifier\n",
    "from sklearn.naive_bayes import GaussianNB\n",
    "from sklearn.metrics import confusion_matrix\n",
    "from sklearn.metrics import precision_score, recall_score, roc_auc_score, f1_score\n",
    "\n",
    "cl = GaussianNB()\n",
    "\n",
    "cl.fit(embedding_train, labels_train)\n",
    "\n",
    "predictions = pd.DataFrame(cl.predict(embedding_test))\n",
    "\n",
    "new_labels = {'mchsgov' : 0, 'mil': 1, 'mospolice' : 2, 'russianpost': 3}\n",
    "labels = pd.DataFrame(labels_test).source.apply(lambda string: new_labels[string])\n",
    "predictions = predictions[0].apply(lambda string: new_labels[string])\n",
    "\n",
    "print('Precision: ', precision_score(labels, predictions, average = 'macro'))\n",
    "print('Recall: ', recall_score(labels, predictions, average = 'macro'))\n",
    "print('F-score: ', f1_score(labels, predictions, average = 'macro'))\n",
    "print('Accuracy: ', sum(labels.values == predictions.values) / len(labels))\n",
    "confusion_matrix(labels, predictions)"
   ]
  },
  {
   "cell_type": "code",
   "execution_count": 25,
   "metadata": {},
   "outputs": [
    {
     "name": "stdout",
     "output_type": "stream",
     "text": [
      "Precision:  0.9476568222411149\n",
      "Recall:  0.9465962917099893\n",
      "F-score:  0.9468894721627023\n",
      "Accuracy:  0.9479618386816999\n"
     ]
    },
    {
     "data": {
      "text/plain": [
       "array([[568,   6,   7,  18],\n",
       "       [ 17, 592,   7,   2],\n",
       "       [  4,   2, 563,  10],\n",
       "       [ 21,   0,  26, 463]], dtype=int64)"
      ]
     },
     "execution_count": 25,
     "metadata": {},
     "output_type": "execute_result"
    }
   ],
   "source": [
    "cl = RandomForestClassifier(n_estimators=100)\n",
    "\n",
    "cl.fit(embedding_train, labels_train)\n",
    "\n",
    "predictions = pd.DataFrame(cl.predict(embedding_test))\n",
    "\n",
    "new_labels = {'mchsgov' : 0, 'mil': 1, 'mospolice' : 2, 'russianpost': 3}\n",
    "labels = pd.DataFrame(labels_test).source.apply(lambda string: new_labels[string])\n",
    "predictions = predictions[0].apply(lambda string: new_labels[string])\n",
    "\n",
    "print('Precision: ', precision_score(labels, predictions, average = 'macro'))\n",
    "print('Recall: ', recall_score(labels, predictions, average = 'macro'))\n",
    "print('F-score: ', f1_score(labels, predictions, average = 'macro'))\n",
    "print('Accuracy: ', sum(labels.values == predictions.values) / len(labels))\n",
    "confusion_matrix(labels, predictions)"
   ]
  },
  {
   "cell_type": "markdown",
   "metadata": {
    "colab_type": "text",
    "id": "7vVPaaVwPVwg"
   },
   "source": [
    "## Задание 5 [1 балл]. Лемматизация\n",
    "Посмотрите, как влияет лемматизация на качество классификации. Как изменится качество классификации, если вы используете ```CountVectorizer``` на словах или $n$-граммах на лемматизированных текстах?"
   ]
  },
  {
   "cell_type": "code",
   "execution_count": 0,
   "metadata": {
    "colab": {},
    "colab_type": "code",
    "id": "8au9JiD1eIV_"
   },
   "outputs": [],
   "source": [
    "from pymystem3 import Mystem\n",
    "import re\n",
    "\n",
    "\n",
    "m = Mystem()\n",
    "\n",
    "\n",
    "regex = re.compile(\"[А-Яа-я:=!\\)\\()A-z\\_\\%/|]+\")\n",
    "\n",
    "def words_only(text, regex=regex):\n",
    "    try:\n",
    "        return \" \".join(regex.findall(text))\n",
    "    except:\n",
    "        return \"\"\n",
    "\n",
    "\n",
    "\n",
    "def lemmatize(text, mystem=m):\n",
    "    try:\n",
    "        return \"\".join(m.lemmatize(text)).strip()  \n",
    "    except:\n",
    "        return \" \"\n",
    "    \n",
    "%time df.text = df.text.apply(words_only)\n",
    "%time df.text = df.text.apply(lemmatize)"
   ]
  },
  {
   "cell_type": "markdown",
   "metadata": {
    "colab_type": "text",
    "id": "cdakRHahQp-l"
   },
   "source": [
    "## Задание 6 [3 балла]. Continious bag of words\n",
    "Для baseline решения мы использовали обычное представление текста в виде мешка слов. Попробуйте использовать другие модели представления текста – например, в виде непрерывного мешка слов, то есть, в виде набора эмбеддингов. Для того, чтобы получить вектор текста попробуйте:\n",
    "* усреднить все эмбеддинги слов, входящих в этот текст\n",
    "* усреднить все эмбеддинги слов, входящих в этот текст с $tf-idf$ весами\n",
    "* использовать любую модель эмбеддинга документа.\n",
    "\n",
    "Используйте любую модель эмбеддингов по вашему вкусу. \n",
    "\n",
    "\n",
    "Оцените результаты классификации по стандартным мерам качества и проведите анализ ошибок. Для этого рекомендуем визуализировать матрицу ошибок (confusion matrix). "
   ]
  },
  {
   "cell_type": "markdown",
   "metadata": {
    "colab_type": "text",
    "id": "uyVQ5Gm7Qzcz"
   },
   "source": [
    "## Задание 7 [2 балла]. fastText\n",
    "\n",
    "Используйте ```fastText``` в режиме классификации. Оцените результаты классификации по стандартным мерам качества и проведите анализ ошибок. Для этого рекомендуем визуализировать матрицу ошибок (confusion matrix). "
   ]
  },
  {
   "cell_type": "markdown",
   "metadata": {
    "colab_type": "text",
    "id": "WH7LbXPgeIWI"
   },
   "source": [
    "## Задание 8 [4 балла]. CNN\n",
    "\n",
    "Реализуйте модель Kim et al (2014) для решения задачи классификации с помощью CNN. Оцените результаты классификации по стандартным мерам качества и проведите анализ ошибок. Для этого рекомендуем визуализировать матрицу ошибок (confusion matrix).\n",
    "Ссылка: Kim Y. Convolutional Neural Networks for Sentence Classification. 2014"
   ]
  },
  {
   "cell_type": "markdown",
   "metadata": {
    "colab_type": "text",
    "id": "zSx3dMtHeIWJ"
   },
   "source": [
    "## Задание 9 [4 + 2 балла]. RNN\n",
    "\n",
    "(4 балла)Используйте ```RNN``` (BLSTM с какими-то признаками и пулинг поверх) для решения задачи текстовой классификации. Оцените результаты классификации по стандартным мерам качества и проведите анализ ошибок. Для этого рекомендуем визуализировать матрицу ошибок (confusion matrix).\n",
    "\n",
    "За дополнительные 2 балла добавьте в модель символьные признаки - CharCNN или CharRNN"
   ]
  },
  {
   "cell_type": "markdown",
   "metadata": {
    "colab_type": "text",
    "id": "WuEQr1hceIWL"
   },
   "source": [
    "## Задание 10 [8 баллов]. ULMFit\n",
    "\n",
    "Используйте ```ULMFit``` для решения задачи классификации. Оцените результаты классификации по стандартным мерам качества и проведите анализ ошибок. Для этого рекомендуем визуализировать матрицу ошибок (confusion matrix). "
   ]
  },
  {
   "cell_type": "markdown",
   "metadata": {
    "colab_type": "text",
    "id": "_8fKqCD6Q5tW"
   },
   "source": [
    "## Конец\n",
    "Выполните какие-то из предыдущих заданий. Для всех заданий, кроме задания 1 требуется вычислить метрику accuracy метода.\n",
    "\n",
    "Подведите итоги и проведите сравнение всех использованных методов. Какой из них показался вам лучше и почему?\n",
    "\n",
    "**NB!** Задание обязательное вне зависимости от того, сколько из предыдущих пунктов вы выполнили, и дополнительных баллов не дает.\n",
    "\n",
    "\n",
    "Для получения полной оценки за NLP-часть достаточно набрать **20 баллов**."
   ]
  },
  {
   "cell_type": "markdown",
   "metadata": {
    "colab_type": "text",
    "id": "4FkOuR_NiXeT"
   },
   "source": [
    "# Правила сдачи \n",
    "\n",
    "1. Домашняя работа должна быть выполнена в ipynb-тетрадке.\n",
    "2. Сделанную тетрадку нужно отправить ассистенту (ссылка на контакты будет в вики).\n",
    "3. Задание выполняется индивидуально.\n",
    "4. Все вычисления должны быть снабжены пояснениями!\n",
    "5. Дедлайн – 10 июня в 10.00.\n"
   ]
  },
  {
   "cell_type": "code",
   "execution_count": 0,
   "metadata": {
    "colab": {},
    "colab_type": "code",
    "id": "qmAmick5eIWY"
   },
   "outputs": [],
   "source": []
  }
 ],
 "metadata": {
  "colab": {
   "collapsed_sections": [],
   "name": "HW_HSE_(2) (1).ipynb",
   "provenance": [],
   "version": "0.3.2"
  },
  "kernelspec": {
   "display_name": "Python 3",
   "language": "python",
   "name": "python3"
  },
  "language_info": {
   "codemirror_mode": {
    "name": "ipython",
    "version": 3
   },
   "file_extension": ".py",
   "mimetype": "text/x-python",
   "name": "python",
   "nbconvert_exporter": "python",
   "pygments_lexer": "ipython3",
   "version": "3.7.1"
  }
 },
 "nbformat": 4,
 "nbformat_minor": 1
}
